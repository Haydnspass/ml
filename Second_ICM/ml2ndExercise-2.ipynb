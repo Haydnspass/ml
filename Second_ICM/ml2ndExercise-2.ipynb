{
 "cells": [
  {
   "cell_type": "code",
   "execution_count": null,
   "metadata": {
    "collapsed": false
   },
   "outputs": [
    {
     "data": {
      "image/png": "[encoded data removed]",
      "text/plain": [
       "<matplotlib.figure.Figure at 0x11047d320>"
      ]
     },
     "metadata": {},
     "output_type": "display_data"
    }
   ],
   "source": [
    "%matplotlib inline\n",
    "import numpy as np\n",
    "import pylab as plt\n",
    "\n",
    "def iterated_conditional_modes( unaries , beta , labels = None ):\n",
    "    \n",
    "    def phiP(v1, v2):\n",
    "        if v1 == v2:\n",
    "            return 0\n",
    "        else:\n",
    "            return .5\n",
    "    \n",
    "    shape = unaries.shape[0:2]\n",
    "    n_labels = unaries.shape[2]\n",
    "    if labels is None:\n",
    "        labels = numpy.argmin ( unaries , axis =2)\n",
    "        originalLabel = labels\n",
    "        plt.imshow(labels)\n",
    "        plt.show()\n",
    "        continue_search = True\n",
    "        maxLoop = 1000000\n",
    "        loopIndex = 0\n",
    "    while ( continue_search):\n",
    "        loopIndex += 1\n",
    "        continue_search = False\n",
    "        for x0 in range (1, shape[0] -1):\n",
    "            for x1 in range (1, shape[1] -1):\n",
    "                current_label = labels[x0 , x1]\n",
    "                min_energy = float('inf')\n",
    "                best_label = None\n",
    "                for l in range ( n_labels ):\n",
    "                    # evaluate cost\n",
    "                    energy = 0.0\n",
    "                    # unary terms\n",
    "                    energy += unaries[x0,x1,l]\n",
    "                    # pairwise terms\n",
    "                    energy += phiP(labels[x0,x1], labels[x0 - 1, x1])\n",
    "                    energy += phiP(labels[x0,x1], labels[x0 + 1, x1])\n",
    "                    energy += phiP(labels[x0,x1], labels[x0, x1 - 1])\n",
    "                    energy += phiP(labels[x0,x1], labels[x0, x1 + 1])\n",
    "                    if energy < min_energy :\n",
    "                        min_energy = energy\n",
    "                        best_label = l\n",
    "                    if best_label != current_label :\n",
    "                        labels[x0 , x1] = best_label\n",
    "                        continue_search = True\n",
    "                    if loopIndex >= maxLoop:\n",
    "                        continue_search = False\n",
    "    return labels, originalLabel\n",
    "\n",
    "if __name__ == \"__main__\":\n",
    "    import matplotlib.pyplot as plt\n",
    "    shape = [10 , 10]\n",
    "    n_labels = 2\n",
    "    # unaries\n",
    "    unaries = numpy.random.rand( shape[0] , shape[1] , n_labels )\n",
    "    # regularizer strength\n",
    "    beta = 0.01\n",
    "    labels, originalLabel = iterated_conditional_modes(unaries, beta = beta )\n",
    "    plt.imshow(labels)\n",
    "    plt.show()\n",
    "    \n",
    "    plt.imshow(abs(labels - originalLabel))\n",
    "    plt.show()"
   ]
  },
  {
   "cell_type": "code",
   "execution_count": 25,
   "metadata": {
    "collapsed": false
   },
   "outputs": [
    {
     "data": {
      "text/plain": [
       "5"
      ]
     },
     "execution_count": 25,
     "metadata": {},
     "output_type": "execute_result"
    }
   ],
   "source": [
    "abs(-5)"
   ]
  },
  {
   "cell_type": "code",
   "execution_count": null,
   "metadata": {
    "collapsed": true
   },
   "outputs": [],
   "source": [
    ""
   ]
  }
 ],
 "metadata": {
  "kernelspec": {
   "display_name": "Python 3",
   "language": "python",
   "name": "python3"
  },
  "language_info": {
   "codemirror_mode": {
    "name": "ipython",
    "version": 3.0
   },
   "file_extension": ".py",
   "mimetype": "text/x-python",
   "name": "python",
   "nbconvert_exporter": "python",
   "pygments_lexer": "ipython3",
   "version": "3.6.0"
  }
 },
 "nbformat": 4,
 "nbformat_minor": 0
}